{
 "cells": [
  {
   "cell_type": "markdown",
   "metadata": {},
   "source": [
    "<a href=\"https://www.nvidia.com/en-us/deep-learning-ai/education/\"> <img src=\"images/DLI Header.png\" alt=\"Header\" style=\"width: 400px;\"/> </a>"
   ]
  },
  {
   "cell_type": "markdown",
   "metadata": {
    "colab_type": "text",
    "id": "L53DPe5wAy3x"
   },
   "source": [
    "# Workshop Assessment "
   ]
  },
  {
   "cell_type": "markdown",
   "metadata": {
    "colab_type": "text",
    "id": "K11_XvhuA1A0"
   },
   "source": [
    "Welcome to the assessment section of this course. In the previous labs you successfully applied machine learning and deep learning techniques for the task of anomaly detection on network packet data. Equipped with this background, you can apply these techniques to any type of data (images or audio) across different use cases. In this assessment, you will apply supervised and unsupervised techniques for intrusion detection on the NSL KDD dataset."
   ]
  },
  {
   "cell_type": "markdown",
   "metadata": {},
   "source": [
    "If you are successfully able to complete this assessment, you will be able to generate a certificate of competency for the course. Good luck!"
   ]
  },
  {
   "cell_type": "markdown",
   "metadata": {},
   "source": [
    "## Objectives"
   ]
  },
  {
   "cell_type": "markdown",
   "metadata": {
    "colab_type": "text",
    "id": "K11_XvhuA1A0"
   },
   "source": [
    "This assessment seeks to test the following concepts:\n",
    "\n",
    "1.   Building and training an Xgboost model.\n",
    "2.   Building and training an autoencoder neural network.\n",
    "3.   Detecting anomalies using different thresholding methods.\n",
    "\n",
    "The total duration of the assessment is 2 hrs, however, if you are unable to complete the assessment today, you are more than welcome to return to it at a later time to try and complete it then."
   ]
  },
  {
   "cell_type": "markdown",
   "metadata": {
    "colab_type": "text",
    "id": "Tk6sSnV9OqRt"
   },
   "source": [
    "## Section 1: Preparation - Done for You"
   ]
  },
  {
   "cell_type": "markdown",
   "metadata": {
    "colab_type": "text",
    "id": "Tk6sSnV9OqRt"
   },
   "source": [
    "### The Dataset"
   ]
  },
  {
   "cell_type": "markdown",
   "metadata": {
    "colab_type": "text",
    "id": "0npSD6otPj_A"
   },
   "source": [
    "We will be using the NSL-KDD dataset published by the University of New Brunswick in this assessment. While the dataset is similar to the KDD dataset used throughout the workshop in terms of the features used, it varies in the following respects:\n",
    "\n",
    "1.   Removal of redundant and duplicate records in the dataset to prevent classifiers from overfitting a particular class.\n",
    "2.   The number of selected records from each difficulty level group is inversely proportional to the percentage of records in the original KDD data set making the task of unsupervised classification slightly more challenging."
   ]
  },
  {
   "cell_type": "markdown",
   "metadata": {
    "colab_type": "text",
    "id": "nI-iMkWrvhel"
   },
   "source": [
    "### Imports"
   ]
  },
  {
   "cell_type": "code",
   "execution_count": 1,
   "metadata": {
    "colab": {},
    "colab_type": "code",
    "id": "LiJdr60kqm7t"
   },
   "outputs": [],
   "source": [
    "import numpy as np\n",
    "import pandas as pd\n",
    "import os\n",
    "import random as python_random\n",
    "\n",
    "import xgboost as xgb\n",
    "import matplotlib.pyplot as plt\n",
    "import pickle\n",
    "import tensorflow as tf\n",
    "from tensorflow import keras\n",
    "\n",
    "from tensorflow.keras import optimizers\n",
    "from tensorflow.keras.models import Model\n",
    "from tensorflow.keras.layers import Input, Dense, Dropout\n",
    "from tensorflow.keras.utils import plot_model\n",
    "\n",
    "from collections import OrderedDict\n",
    "from sklearn.preprocessing import LabelEncoder\n",
    "from sklearn.preprocessing import MinMaxScaler\n",
    "from sklearn.model_selection import train_test_split\n",
    "from sklearn.metrics import roc_curve, auc, confusion_matrix\n",
    "from sklearn.metrics import roc_auc_score,confusion_matrix,classification_report,roc_curve\n",
    "\n",
    "# We will use our own accuracy score functions for the sake of grading this assessment\n",
    "from assessment import xgb_accuracy_score, autoencoder_accuracy_score\n",
    "\n",
    "from tensorflow.keras.models import load_model, model_from_json\n",
    "\n",
    "np.random.seed(42)\n",
    "python_random.seed(42)\n",
    "tf.random.set_seed(42)\n",
    "os.environ['PYTHONHASHSEED']=str(42)"
   ]
  },
  {
   "cell_type": "markdown",
   "metadata": {},
   "source": [
    "### Load the Data"
   ]
  },
  {
   "cell_type": "code",
   "execution_count": 2,
   "metadata": {
    "colab": {},
    "colab_type": "code",
    "id": "sbxUus80Gh7k"
   },
   "outputs": [
    {
     "data": {
      "text/html": [
       "<div>\n",
       "<style scoped>\n",
       "    .dataframe tbody tr th:only-of-type {\n",
       "        vertical-align: middle;\n",
       "    }\n",
       "\n",
       "    .dataframe tbody tr th {\n",
       "        vertical-align: top;\n",
       "    }\n",
       "\n",
       "    .dataframe thead th {\n",
       "        text-align: right;\n",
       "    }\n",
       "</style>\n",
       "<table border=\"1\" class=\"dataframe\">\n",
       "  <thead>\n",
       "    <tr style=\"text-align: right;\">\n",
       "      <th></th>\n",
       "      <th>duration</th>\n",
       "      <th>protocol_type</th>\n",
       "      <th>service</th>\n",
       "      <th>flag</th>\n",
       "      <th>src_bytes</th>\n",
       "      <th>dst_bytes</th>\n",
       "      <th>land</th>\n",
       "      <th>wrong_fragment</th>\n",
       "      <th>urgent</th>\n",
       "      <th>hot</th>\n",
       "      <th>...</th>\n",
       "      <th>dst_host_srv_count</th>\n",
       "      <th>dst_host_same_srv_rate</th>\n",
       "      <th>dst_host_diff_srv_rate</th>\n",
       "      <th>dst_host_same_src_port_rate</th>\n",
       "      <th>dst_host_srv_diff_host_rate</th>\n",
       "      <th>dst_host_serror_rate</th>\n",
       "      <th>dst_host_srv_serror_rate</th>\n",
       "      <th>dst_host_rerror_rate</th>\n",
       "      <th>dst_host_srv_rerror_rate</th>\n",
       "      <th>label</th>\n",
       "    </tr>\n",
       "  </thead>\n",
       "  <tbody>\n",
       "    <tr>\n",
       "      <th>0</th>\n",
       "      <td>0</td>\n",
       "      <td>tcp</td>\n",
       "      <td>ftp_data</td>\n",
       "      <td>SF</td>\n",
       "      <td>491</td>\n",
       "      <td>0</td>\n",
       "      <td>0</td>\n",
       "      <td>0</td>\n",
       "      <td>0</td>\n",
       "      <td>0</td>\n",
       "      <td>...</td>\n",
       "      <td>25</td>\n",
       "      <td>0.17</td>\n",
       "      <td>0.03</td>\n",
       "      <td>0.17</td>\n",
       "      <td>0.00</td>\n",
       "      <td>0.00</td>\n",
       "      <td>0.00</td>\n",
       "      <td>0.05</td>\n",
       "      <td>0.00</td>\n",
       "      <td>normal</td>\n",
       "    </tr>\n",
       "    <tr>\n",
       "      <th>1</th>\n",
       "      <td>0</td>\n",
       "      <td>udp</td>\n",
       "      <td>other</td>\n",
       "      <td>SF</td>\n",
       "      <td>146</td>\n",
       "      <td>0</td>\n",
       "      <td>0</td>\n",
       "      <td>0</td>\n",
       "      <td>0</td>\n",
       "      <td>0</td>\n",
       "      <td>...</td>\n",
       "      <td>1</td>\n",
       "      <td>0.00</td>\n",
       "      <td>0.60</td>\n",
       "      <td>0.88</td>\n",
       "      <td>0.00</td>\n",
       "      <td>0.00</td>\n",
       "      <td>0.00</td>\n",
       "      <td>0.00</td>\n",
       "      <td>0.00</td>\n",
       "      <td>normal</td>\n",
       "    </tr>\n",
       "    <tr>\n",
       "      <th>2</th>\n",
       "      <td>0</td>\n",
       "      <td>tcp</td>\n",
       "      <td>private</td>\n",
       "      <td>S0</td>\n",
       "      <td>0</td>\n",
       "      <td>0</td>\n",
       "      <td>0</td>\n",
       "      <td>0</td>\n",
       "      <td>0</td>\n",
       "      <td>0</td>\n",
       "      <td>...</td>\n",
       "      <td>26</td>\n",
       "      <td>0.10</td>\n",
       "      <td>0.05</td>\n",
       "      <td>0.00</td>\n",
       "      <td>0.00</td>\n",
       "      <td>1.00</td>\n",
       "      <td>1.00</td>\n",
       "      <td>0.00</td>\n",
       "      <td>0.00</td>\n",
       "      <td>neptune</td>\n",
       "    </tr>\n",
       "    <tr>\n",
       "      <th>3</th>\n",
       "      <td>0</td>\n",
       "      <td>tcp</td>\n",
       "      <td>http</td>\n",
       "      <td>SF</td>\n",
       "      <td>232</td>\n",
       "      <td>8153</td>\n",
       "      <td>0</td>\n",
       "      <td>0</td>\n",
       "      <td>0</td>\n",
       "      <td>0</td>\n",
       "      <td>...</td>\n",
       "      <td>255</td>\n",
       "      <td>1.00</td>\n",
       "      <td>0.00</td>\n",
       "      <td>0.03</td>\n",
       "      <td>0.04</td>\n",
       "      <td>0.03</td>\n",
       "      <td>0.01</td>\n",
       "      <td>0.00</td>\n",
       "      <td>0.01</td>\n",
       "      <td>normal</td>\n",
       "    </tr>\n",
       "    <tr>\n",
       "      <th>4</th>\n",
       "      <td>0</td>\n",
       "      <td>tcp</td>\n",
       "      <td>http</td>\n",
       "      <td>SF</td>\n",
       "      <td>199</td>\n",
       "      <td>420</td>\n",
       "      <td>0</td>\n",
       "      <td>0</td>\n",
       "      <td>0</td>\n",
       "      <td>0</td>\n",
       "      <td>...</td>\n",
       "      <td>255</td>\n",
       "      <td>1.00</td>\n",
       "      <td>0.00</td>\n",
       "      <td>0.00</td>\n",
       "      <td>0.00</td>\n",
       "      <td>0.00</td>\n",
       "      <td>0.00</td>\n",
       "      <td>0.00</td>\n",
       "      <td>0.00</td>\n",
       "      <td>normal</td>\n",
       "    </tr>\n",
       "  </tbody>\n",
       "</table>\n",
       "<p>5 rows × 42 columns</p>\n",
       "</div>"
      ],
      "text/plain": [
       "   duration protocol_type   service flag  src_bytes  dst_bytes  land  \\\n",
       "0         0           tcp  ftp_data   SF        491          0     0   \n",
       "1         0           udp     other   SF        146          0     0   \n",
       "2         0           tcp   private   S0          0          0     0   \n",
       "3         0           tcp      http   SF        232       8153     0   \n",
       "4         0           tcp      http   SF        199        420     0   \n",
       "\n",
       "   wrong_fragment  urgent  hot  ...  dst_host_srv_count  \\\n",
       "0               0       0    0  ...                  25   \n",
       "1               0       0    0  ...                   1   \n",
       "2               0       0    0  ...                  26   \n",
       "3               0       0    0  ...                 255   \n",
       "4               0       0    0  ...                 255   \n",
       "\n",
       "   dst_host_same_srv_rate  dst_host_diff_srv_rate  \\\n",
       "0                    0.17                    0.03   \n",
       "1                    0.00                    0.60   \n",
       "2                    0.10                    0.05   \n",
       "3                    1.00                    0.00   \n",
       "4                    1.00                    0.00   \n",
       "\n",
       "   dst_host_same_src_port_rate  dst_host_srv_diff_host_rate  \\\n",
       "0                         0.17                         0.00   \n",
       "1                         0.88                         0.00   \n",
       "2                         0.00                         0.00   \n",
       "3                         0.03                         0.04   \n",
       "4                         0.00                         0.00   \n",
       "\n",
       "   dst_host_serror_rate  dst_host_srv_serror_rate  dst_host_rerror_rate  \\\n",
       "0                  0.00                      0.00                  0.05   \n",
       "1                  0.00                      0.00                  0.00   \n",
       "2                  1.00                      1.00                  0.00   \n",
       "3                  0.03                      0.01                  0.00   \n",
       "4                  0.00                      0.00                  0.00   \n",
       "\n",
       "   dst_host_srv_rerror_rate    label  \n",
       "0                      0.00   normal  \n",
       "1                      0.00   normal  \n",
       "2                      0.00  neptune  \n",
       "3                      0.01   normal  \n",
       "4                      0.00   normal  \n",
       "\n",
       "[5 rows x 42 columns]"
      ]
     },
     "execution_count": 2,
     "metadata": {},
     "output_type": "execute_result"
    }
   ],
   "source": [
    "col_names = [\"duration\",\"protocol_type\",\"service\",\"flag\",\"src_bytes\",\"dst_bytes\",\"land\",\"wrong_fragment\",\"urgent\",\"hot\",\"num_failed_logins\",\"logged_in\",\n",
    "             \"num_compromised\",\"root_shell\",\"su_attempted\",\"num_root\",\"num_file_creations\",\"num_shells\",\"num_access_files\",\"num_outbound_cmds\",\n",
    "             \"is_host_login\",\"is_guest_login\",\"count\",\"srv_count\",\"serror_rate\",\"srv_serror_rate\",\"rerror_rate\",\"srv_rerror_rate\",\"same_srv_rate\",\n",
    "             \"diff_srv_rate\",\"srv_diff_host_rate\",\"dst_host_count\",\"dst_host_srv_count\",\"dst_host_same_srv_rate\",\"dst_host_diff_srv_rate\",\n",
    "             \"dst_host_same_src_port_rate\",\"dst_host_srv_diff_host_rate\",\"dst_host_serror_rate\",\"dst_host_srv_serror_rate\",\"dst_host_rerror_rate\",\n",
    "             \"dst_host_srv_rerror_rate\",\"label\"]\n",
    "\n",
    "df = pd.read_csv(\"data/KDDTrain+_20Percent.txt\", header=None, names=col_names, index_col=False)\n",
    "\n",
    "text_l = ['protocol_type', 'service', 'flag', 'land', 'logged_in', 'is_host_login', 'is_guest_login']\n",
    "\n",
    "df.head(5)"
   ]
  },
  {
   "cell_type": "code",
   "execution_count": 3,
   "metadata": {
    "colab": {},
    "colab_type": "code",
    "id": "jeFncMHLLRsD"
   },
   "outputs": [
    {
     "data": {
      "text/html": [
       "<div>\n",
       "<style scoped>\n",
       "    .dataframe tbody tr th:only-of-type {\n",
       "        vertical-align: middle;\n",
       "    }\n",
       "\n",
       "    .dataframe tbody tr th {\n",
       "        vertical-align: top;\n",
       "    }\n",
       "\n",
       "    .dataframe thead th {\n",
       "        text-align: right;\n",
       "    }\n",
       "</style>\n",
       "<table border=\"1\" class=\"dataframe\">\n",
       "  <thead>\n",
       "    <tr style=\"text-align: right;\">\n",
       "      <th></th>\n",
       "      <th>label</th>\n",
       "    </tr>\n",
       "  </thead>\n",
       "  <tbody>\n",
       "    <tr>\n",
       "      <th>normal</th>\n",
       "      <td>13449</td>\n",
       "    </tr>\n",
       "    <tr>\n",
       "      <th>neptune</th>\n",
       "      <td>8282</td>\n",
       "    </tr>\n",
       "    <tr>\n",
       "      <th>ipsweep</th>\n",
       "      <td>710</td>\n",
       "    </tr>\n",
       "    <tr>\n",
       "      <th>satan</th>\n",
       "      <td>691</td>\n",
       "    </tr>\n",
       "    <tr>\n",
       "      <th>portsweep</th>\n",
       "      <td>587</td>\n",
       "    </tr>\n",
       "    <tr>\n",
       "      <th>smurf</th>\n",
       "      <td>529</td>\n",
       "    </tr>\n",
       "    <tr>\n",
       "      <th>nmap</th>\n",
       "      <td>301</td>\n",
       "    </tr>\n",
       "    <tr>\n",
       "      <th>back</th>\n",
       "      <td>196</td>\n",
       "    </tr>\n",
       "    <tr>\n",
       "      <th>teardrop</th>\n",
       "      <td>188</td>\n",
       "    </tr>\n",
       "    <tr>\n",
       "      <th>warezclient</th>\n",
       "      <td>181</td>\n",
       "    </tr>\n",
       "    <tr>\n",
       "      <th>pod</th>\n",
       "      <td>38</td>\n",
       "    </tr>\n",
       "    <tr>\n",
       "      <th>guess_passwd</th>\n",
       "      <td>10</td>\n",
       "    </tr>\n",
       "    <tr>\n",
       "      <th>warezmaster</th>\n",
       "      <td>7</td>\n",
       "    </tr>\n",
       "    <tr>\n",
       "      <th>buffer_overflow</th>\n",
       "      <td>6</td>\n",
       "    </tr>\n",
       "    <tr>\n",
       "      <th>imap</th>\n",
       "      <td>5</td>\n",
       "    </tr>\n",
       "    <tr>\n",
       "      <th>rootkit</th>\n",
       "      <td>4</td>\n",
       "    </tr>\n",
       "    <tr>\n",
       "      <th>phf</th>\n",
       "      <td>2</td>\n",
       "    </tr>\n",
       "    <tr>\n",
       "      <th>multihop</th>\n",
       "      <td>2</td>\n",
       "    </tr>\n",
       "    <tr>\n",
       "      <th>ftp_write</th>\n",
       "      <td>1</td>\n",
       "    </tr>\n",
       "    <tr>\n",
       "      <th>land</th>\n",
       "      <td>1</td>\n",
       "    </tr>\n",
       "    <tr>\n",
       "      <th>loadmodule</th>\n",
       "      <td>1</td>\n",
       "    </tr>\n",
       "    <tr>\n",
       "      <th>spy</th>\n",
       "      <td>1</td>\n",
       "    </tr>\n",
       "  </tbody>\n",
       "</table>\n",
       "</div>"
      ],
      "text/plain": [
       "                 label\n",
       "normal           13449\n",
       "neptune           8282\n",
       "ipsweep            710\n",
       "satan              691\n",
       "portsweep          587\n",
       "smurf              529\n",
       "nmap               301\n",
       "back               196\n",
       "teardrop           188\n",
       "warezclient        181\n",
       "pod                 38\n",
       "guess_passwd        10\n",
       "warezmaster          7\n",
       "buffer_overflow      6\n",
       "imap                 5\n",
       "rootkit              4\n",
       "phf                  2\n",
       "multihop             2\n",
       "ftp_write            1\n",
       "land                 1\n",
       "loadmodule           1\n",
       "spy                  1"
      ]
     },
     "execution_count": 3,
     "metadata": {},
     "output_type": "execute_result"
    }
   ],
   "source": [
    "# Describe the different classes of Labels\n",
    "\n",
    "pd.DataFrame(df['label'].value_counts())"
   ]
  },
  {
   "cell_type": "markdown",
   "metadata": {
    "colab_type": "text",
    "id": "2F3BqL2Lu1PN"
   },
   "source": [
    "### Data Preprocessing"
   ]
  },
  {
   "cell_type": "code",
   "execution_count": 4,
   "metadata": {
    "colab": {},
    "colab_type": "code",
    "id": "lsxg_35OMOlN"
   },
   "outputs": [
    {
     "data": {
      "text/html": [
       "<div>\n",
       "<style scoped>\n",
       "    .dataframe tbody tr th:only-of-type {\n",
       "        vertical-align: middle;\n",
       "    }\n",
       "\n",
       "    .dataframe tbody tr th {\n",
       "        vertical-align: top;\n",
       "    }\n",
       "\n",
       "    .dataframe thead th {\n",
       "        text-align: right;\n",
       "    }\n",
       "</style>\n",
       "<table border=\"1\" class=\"dataframe\">\n",
       "  <thead>\n",
       "    <tr style=\"text-align: right;\">\n",
       "      <th></th>\n",
       "      <th>land</th>\n",
       "      <th>logged_in</th>\n",
       "      <th>is_host_login</th>\n",
       "      <th>is_guest_login</th>\n",
       "      <th>protocol_type_icmp</th>\n",
       "      <th>protocol_type_tcp</th>\n",
       "      <th>protocol_type_udp</th>\n",
       "      <th>service_IRC</th>\n",
       "      <th>service_X11</th>\n",
       "      <th>service_Z39_50</th>\n",
       "      <th>...</th>\n",
       "      <th>flag_REJ</th>\n",
       "      <th>flag_RSTO</th>\n",
       "      <th>flag_RSTOS0</th>\n",
       "      <th>flag_RSTR</th>\n",
       "      <th>flag_S0</th>\n",
       "      <th>flag_S1</th>\n",
       "      <th>flag_S2</th>\n",
       "      <th>flag_S3</th>\n",
       "      <th>flag_SF</th>\n",
       "      <th>flag_SH</th>\n",
       "    </tr>\n",
       "  </thead>\n",
       "  <tbody>\n",
       "    <tr>\n",
       "      <th>0</th>\n",
       "      <td>0</td>\n",
       "      <td>0</td>\n",
       "      <td>0</td>\n",
       "      <td>0</td>\n",
       "      <td>0</td>\n",
       "      <td>1</td>\n",
       "      <td>0</td>\n",
       "      <td>0</td>\n",
       "      <td>0</td>\n",
       "      <td>0</td>\n",
       "      <td>...</td>\n",
       "      <td>0</td>\n",
       "      <td>0</td>\n",
       "      <td>0</td>\n",
       "      <td>0</td>\n",
       "      <td>0</td>\n",
       "      <td>0</td>\n",
       "      <td>0</td>\n",
       "      <td>0</td>\n",
       "      <td>1</td>\n",
       "      <td>0</td>\n",
       "    </tr>\n",
       "    <tr>\n",
       "      <th>1</th>\n",
       "      <td>0</td>\n",
       "      <td>0</td>\n",
       "      <td>0</td>\n",
       "      <td>0</td>\n",
       "      <td>0</td>\n",
       "      <td>0</td>\n",
       "      <td>1</td>\n",
       "      <td>0</td>\n",
       "      <td>0</td>\n",
       "      <td>0</td>\n",
       "      <td>...</td>\n",
       "      <td>0</td>\n",
       "      <td>0</td>\n",
       "      <td>0</td>\n",
       "      <td>0</td>\n",
       "      <td>0</td>\n",
       "      <td>0</td>\n",
       "      <td>0</td>\n",
       "      <td>0</td>\n",
       "      <td>1</td>\n",
       "      <td>0</td>\n",
       "    </tr>\n",
       "    <tr>\n",
       "      <th>2</th>\n",
       "      <td>0</td>\n",
       "      <td>0</td>\n",
       "      <td>0</td>\n",
       "      <td>0</td>\n",
       "      <td>0</td>\n",
       "      <td>1</td>\n",
       "      <td>0</td>\n",
       "      <td>0</td>\n",
       "      <td>0</td>\n",
       "      <td>0</td>\n",
       "      <td>...</td>\n",
       "      <td>0</td>\n",
       "      <td>0</td>\n",
       "      <td>0</td>\n",
       "      <td>0</td>\n",
       "      <td>1</td>\n",
       "      <td>0</td>\n",
       "      <td>0</td>\n",
       "      <td>0</td>\n",
       "      <td>0</td>\n",
       "      <td>0</td>\n",
       "    </tr>\n",
       "    <tr>\n",
       "      <th>3</th>\n",
       "      <td>0</td>\n",
       "      <td>1</td>\n",
       "      <td>0</td>\n",
       "      <td>0</td>\n",
       "      <td>0</td>\n",
       "      <td>1</td>\n",
       "      <td>0</td>\n",
       "      <td>0</td>\n",
       "      <td>0</td>\n",
       "      <td>0</td>\n",
       "      <td>...</td>\n",
       "      <td>0</td>\n",
       "      <td>0</td>\n",
       "      <td>0</td>\n",
       "      <td>0</td>\n",
       "      <td>0</td>\n",
       "      <td>0</td>\n",
       "      <td>0</td>\n",
       "      <td>0</td>\n",
       "      <td>1</td>\n",
       "      <td>0</td>\n",
       "    </tr>\n",
       "    <tr>\n",
       "      <th>4</th>\n",
       "      <td>0</td>\n",
       "      <td>1</td>\n",
       "      <td>0</td>\n",
       "      <td>0</td>\n",
       "      <td>0</td>\n",
       "      <td>1</td>\n",
       "      <td>0</td>\n",
       "      <td>0</td>\n",
       "      <td>0</td>\n",
       "      <td>0</td>\n",
       "      <td>...</td>\n",
       "      <td>0</td>\n",
       "      <td>0</td>\n",
       "      <td>0</td>\n",
       "      <td>0</td>\n",
       "      <td>0</td>\n",
       "      <td>0</td>\n",
       "      <td>0</td>\n",
       "      <td>0</td>\n",
       "      <td>1</td>\n",
       "      <td>0</td>\n",
       "    </tr>\n",
       "  </tbody>\n",
       "</table>\n",
       "<p>5 rows × 84 columns</p>\n",
       "</div>"
      ],
      "text/plain": [
       "   land  logged_in  is_host_login  is_guest_login  protocol_type_icmp  \\\n",
       "0     0          0              0               0                   0   \n",
       "1     0          0              0               0                   0   \n",
       "2     0          0              0               0                   0   \n",
       "3     0          1              0               0                   0   \n",
       "4     0          1              0               0                   0   \n",
       "\n",
       "   protocol_type_tcp  protocol_type_udp  service_IRC  service_X11  \\\n",
       "0                  1                  0            0            0   \n",
       "1                  0                  1            0            0   \n",
       "2                  1                  0            0            0   \n",
       "3                  1                  0            0            0   \n",
       "4                  1                  0            0            0   \n",
       "\n",
       "   service_Z39_50  ...  flag_REJ  flag_RSTO  flag_RSTOS0  flag_RSTR  flag_S0  \\\n",
       "0               0  ...         0          0            0          0        0   \n",
       "1               0  ...         0          0            0          0        0   \n",
       "2               0  ...         0          0            0          0        1   \n",
       "3               0  ...         0          0            0          0        0   \n",
       "4               0  ...         0          0            0          0        0   \n",
       "\n",
       "   flag_S1  flag_S2  flag_S3  flag_SF  flag_SH  \n",
       "0        0        0        0        1        0  \n",
       "1        0        0        0        1        0  \n",
       "2        0        0        0        0        0  \n",
       "3        0        0        0        1        0  \n",
       "4        0        0        0        1        0  \n",
       "\n",
       "[5 rows x 84 columns]"
      ]
     },
     "execution_count": 4,
     "metadata": {},
     "output_type": "execute_result"
    }
   ],
   "source": [
    "# Create one-hot encoded categorical columns in the dataset\n",
    "\n",
    "cat_vars = ['protocol_type', 'service', 'flag', 'land', 'logged_in','is_host_login', 'is_guest_login']\n",
    "\n",
    "# Find unique labels for each category\n",
    "cat_data = pd.get_dummies(df[cat_vars])\n",
    "\n",
    "# Check that the categorical variables were created correctly\n",
    "cat_data.head()"
   ]
  },
  {
   "cell_type": "code",
   "execution_count": 5,
   "metadata": {
    "colab": {},
    "colab_type": "code",
    "id": "okwxsa65MVF_"
   },
   "outputs": [
    {
     "data": {
      "text/html": [
       "<div>\n",
       "<style scoped>\n",
       "    .dataframe tbody tr th:only-of-type {\n",
       "        vertical-align: middle;\n",
       "    }\n",
       "\n",
       "    .dataframe tbody tr th {\n",
       "        vertical-align: top;\n",
       "    }\n",
       "\n",
       "    .dataframe thead th {\n",
       "        text-align: right;\n",
       "    }\n",
       "</style>\n",
       "<table border=\"1\" class=\"dataframe\">\n",
       "  <thead>\n",
       "    <tr style=\"text-align: right;\">\n",
       "      <th></th>\n",
       "      <th>dst_host_diff_srv_rate</th>\n",
       "      <th>su_attempted</th>\n",
       "      <th>root_shell</th>\n",
       "      <th>num_compromised</th>\n",
       "      <th>urgent</th>\n",
       "      <th>dst_host_srv_diff_host_rate</th>\n",
       "      <th>src_bytes</th>\n",
       "      <th>dst_bytes</th>\n",
       "      <th>rerror_rate</th>\n",
       "      <th>duration</th>\n",
       "      <th>...</th>\n",
       "      <th>hot</th>\n",
       "      <th>dst_host_srv_count</th>\n",
       "      <th>wrong_fragment</th>\n",
       "      <th>num_failed_logins</th>\n",
       "      <th>dst_host_count</th>\n",
       "      <th>num_access_files</th>\n",
       "      <th>dst_host_srv_serror_rate</th>\n",
       "      <th>dst_host_same_srv_rate</th>\n",
       "      <th>diff_srv_rate</th>\n",
       "      <th>num_shells</th>\n",
       "    </tr>\n",
       "  </thead>\n",
       "  <tbody>\n",
       "    <tr>\n",
       "      <th>0</th>\n",
       "      <td>0.03</td>\n",
       "      <td>0</td>\n",
       "      <td>0</td>\n",
       "      <td>0</td>\n",
       "      <td>0</td>\n",
       "      <td>0.00</td>\n",
       "      <td>491</td>\n",
       "      <td>0</td>\n",
       "      <td>0.0</td>\n",
       "      <td>0</td>\n",
       "      <td>...</td>\n",
       "      <td>0</td>\n",
       "      <td>25</td>\n",
       "      <td>0</td>\n",
       "      <td>0</td>\n",
       "      <td>150</td>\n",
       "      <td>0</td>\n",
       "      <td>0.00</td>\n",
       "      <td>0.17</td>\n",
       "      <td>0.00</td>\n",
       "      <td>0</td>\n",
       "    </tr>\n",
       "    <tr>\n",
       "      <th>1</th>\n",
       "      <td>0.60</td>\n",
       "      <td>0</td>\n",
       "      <td>0</td>\n",
       "      <td>0</td>\n",
       "      <td>0</td>\n",
       "      <td>0.00</td>\n",
       "      <td>146</td>\n",
       "      <td>0</td>\n",
       "      <td>0.0</td>\n",
       "      <td>0</td>\n",
       "      <td>...</td>\n",
       "      <td>0</td>\n",
       "      <td>1</td>\n",
       "      <td>0</td>\n",
       "      <td>0</td>\n",
       "      <td>255</td>\n",
       "      <td>0</td>\n",
       "      <td>0.00</td>\n",
       "      <td>0.00</td>\n",
       "      <td>0.15</td>\n",
       "      <td>0</td>\n",
       "    </tr>\n",
       "    <tr>\n",
       "      <th>2</th>\n",
       "      <td>0.05</td>\n",
       "      <td>0</td>\n",
       "      <td>0</td>\n",
       "      <td>0</td>\n",
       "      <td>0</td>\n",
       "      <td>0.00</td>\n",
       "      <td>0</td>\n",
       "      <td>0</td>\n",
       "      <td>0.0</td>\n",
       "      <td>0</td>\n",
       "      <td>...</td>\n",
       "      <td>0</td>\n",
       "      <td>26</td>\n",
       "      <td>0</td>\n",
       "      <td>0</td>\n",
       "      <td>255</td>\n",
       "      <td>0</td>\n",
       "      <td>1.00</td>\n",
       "      <td>0.10</td>\n",
       "      <td>0.07</td>\n",
       "      <td>0</td>\n",
       "    </tr>\n",
       "    <tr>\n",
       "      <th>3</th>\n",
       "      <td>0.00</td>\n",
       "      <td>0</td>\n",
       "      <td>0</td>\n",
       "      <td>0</td>\n",
       "      <td>0</td>\n",
       "      <td>0.04</td>\n",
       "      <td>232</td>\n",
       "      <td>8153</td>\n",
       "      <td>0.0</td>\n",
       "      <td>0</td>\n",
       "      <td>...</td>\n",
       "      <td>0</td>\n",
       "      <td>255</td>\n",
       "      <td>0</td>\n",
       "      <td>0</td>\n",
       "      <td>30</td>\n",
       "      <td>0</td>\n",
       "      <td>0.01</td>\n",
       "      <td>1.00</td>\n",
       "      <td>0.00</td>\n",
       "      <td>0</td>\n",
       "    </tr>\n",
       "    <tr>\n",
       "      <th>4</th>\n",
       "      <td>0.00</td>\n",
       "      <td>0</td>\n",
       "      <td>0</td>\n",
       "      <td>0</td>\n",
       "      <td>0</td>\n",
       "      <td>0.00</td>\n",
       "      <td>199</td>\n",
       "      <td>420</td>\n",
       "      <td>0.0</td>\n",
       "      <td>0</td>\n",
       "      <td>...</td>\n",
       "      <td>0</td>\n",
       "      <td>255</td>\n",
       "      <td>0</td>\n",
       "      <td>0</td>\n",
       "      <td>255</td>\n",
       "      <td>0</td>\n",
       "      <td>0.00</td>\n",
       "      <td>1.00</td>\n",
       "      <td>0.00</td>\n",
       "      <td>0</td>\n",
       "    </tr>\n",
       "  </tbody>\n",
       "</table>\n",
       "<p>5 rows × 34 columns</p>\n",
       "</div>"
      ],
      "text/plain": [
       "   dst_host_diff_srv_rate  su_attempted  root_shell  num_compromised  urgent  \\\n",
       "0                    0.03             0           0                0       0   \n",
       "1                    0.60             0           0                0       0   \n",
       "2                    0.05             0           0                0       0   \n",
       "3                    0.00             0           0                0       0   \n",
       "4                    0.00             0           0                0       0   \n",
       "\n",
       "   dst_host_srv_diff_host_rate  src_bytes  dst_bytes  rerror_rate  duration  \\\n",
       "0                         0.00        491          0          0.0         0   \n",
       "1                         0.00        146          0          0.0         0   \n",
       "2                         0.00          0          0          0.0         0   \n",
       "3                         0.04        232       8153          0.0         0   \n",
       "4                         0.00        199        420          0.0         0   \n",
       "\n",
       "   ...  hot  dst_host_srv_count  wrong_fragment  num_failed_logins  \\\n",
       "0  ...    0                  25               0                  0   \n",
       "1  ...    0                   1               0                  0   \n",
       "2  ...    0                  26               0                  0   \n",
       "3  ...    0                 255               0                  0   \n",
       "4  ...    0                 255               0                  0   \n",
       "\n",
       "   dst_host_count  num_access_files  dst_host_srv_serror_rate  \\\n",
       "0             150                 0                      0.00   \n",
       "1             255                 0                      0.00   \n",
       "2             255                 0                      1.00   \n",
       "3              30                 0                      0.01   \n",
       "4             255                 0                      0.00   \n",
       "\n",
       "   dst_host_same_srv_rate  diff_srv_rate  num_shells  \n",
       "0                    0.17           0.00           0  \n",
       "1                    0.00           0.15           0  \n",
       "2                    0.10           0.07           0  \n",
       "3                    1.00           0.00           0  \n",
       "4                    1.00           0.00           0  \n",
       "\n",
       "[5 rows x 34 columns]"
      ]
     },
     "execution_count": 5,
     "metadata": {},
     "output_type": "execute_result"
    }
   ],
   "source": [
    "# Separate the numerical columns\n",
    "\n",
    "numeric_vars = list(set(df.columns.values.tolist()) - set(cat_vars))\n",
    "numeric_vars.remove('label')\n",
    "numeric_data = df[numeric_vars].copy()\n",
    "\n",
    "# Check that the numeric data has been captured accurately\n",
    "\n",
    "numeric_data.head()"
   ]
  },
  {
   "cell_type": "code",
   "execution_count": 6,
   "metadata": {
    "colab": {},
    "colab_type": "code",
    "id": "5cx8YpFAMYss"
   },
   "outputs": [],
   "source": [
    "numeric_cat_data = pd.concat([numeric_data, cat_data], axis=1)"
   ]
  },
  {
   "cell_type": "markdown",
   "metadata": {
    "colab_type": "text",
    "id": "wkWZO8Gevx6I"
   },
   "source": [
    "## Assessment Task 1: Data Selection\n",
    "\n",
    "The first part of this assessment checks whether you understand the data you are working with. If successful, you should be able to load and split the data in order to begin learning from it.\n",
    "\n",
    "In the code block below, replace each #### FIX ME #### with solutions which:\n",
    "1.   Determine the number of classes in the dataset.\n",
    "2.   Set the variable test_size to the fraction of the dataset you would like to use for testing."
   ]
  },
  {
   "cell_type": "code",
   "execution_count": 9,
   "metadata": {
    "colab": {},
    "colab_type": "code",
    "id": "g3Swkp2xMh_N"
   },
   "outputs": [],
   "source": [
    "# Capture the labels\n",
    "labels = df['label'].copy()\n",
    "\n",
    "# Convert labels to integers\n",
    "le = LabelEncoder()\n",
    "integer_labels = le.fit_transform(labels)\n",
    "num_labels = len(np.unique(labels))\n",
    "\n",
    "# Split data into test and train\n",
    "x_train, x_test, y_train, y_test = train_test_split(numeric_cat_data,\n",
    "                                                    integer_labels,\n",
    "                                                    test_size= 0.25, \n",
    "                                                    random_state= 42)"
   ]
  },
  {
   "cell_type": "code",
   "execution_count": 10,
   "metadata": {
    "colab": {},
    "colab_type": "code",
    "id": "RXkWHSGKMieW"
   },
   "outputs": [
    {
     "name": "stdout",
     "output_type": "stream",
     "text": [
      "(18894, 118)\n",
      "(18894,)\n",
      "(6298, 118)\n",
      "(6298,)\n"
     ]
    }
   ],
   "source": [
    "print(x_train.shape)\n",
    "print(y_train.shape)\n",
    "print(x_test.shape)\n",
    "print(y_test.shape)"
   ]
  },
  {
   "cell_type": "code",
   "execution_count": 11,
   "metadata": {
    "colab": {},
    "colab_type": "code",
    "id": "JO4wJzNc4Nin"
   },
   "outputs": [],
   "source": [
    "# Make sure to only fit the the scaler on the training data\n",
    "scaler = MinMaxScaler()\n",
    "x_train = scaler.fit_transform(x_train)\n",
    "x_test = scaler.transform(x_test)\n",
    "\n",
    "# Convert the data to FP32\n",
    "x_train = x_train.astype(np.float32)\n",
    "x_test = x_test.astype(np.float32)"
   ]
  },
  {
   "cell_type": "markdown",
   "metadata": {
    "colab_type": "text",
    "id": "76kCWgjL5K13"
   },
   "source": [
    "## Assessment Task 2 : XGBoost - Set the XGBoost Parameters"
   ]
  },
  {
   "cell_type": "markdown",
   "metadata": {
    "colab_type": "text",
    "id": "76kCWgjL5K13"
   },
   "source": [
    "Treat the question as a **multi-class** supervised learning problem and train a **GPU-accelerated XGBoost model** on the given dataset. Refer to the [documentation](https://xgboost.readthedocs.io/en/latest/parameter.html) or your previous tasks to fix the parameter list. You may reference the notebooks from previous sections by opening the file explorer on the left-hand side of the JupyterLab screen.\n",
    "\n",
    "This task checks that you know how these parameters impact training."
   ]
  },
  {
   "cell_type": "code",
   "execution_count": 12,
   "metadata": {
    "colab": {},
    "colab_type": "code",
    "id": "LJ56HUZDEoQC"
   },
   "outputs": [],
   "source": [
    " params = {\n",
    "    'num_rounds':        10,\n",
    "    'max_depth':         8, \n",
    "    'max_leaves':        2**8,\n",
    "    'alpha':             0.9,\n",
    "    'eta':               0.1,\n",
    "    'gamma':             0.1,\n",
    "    'learning_rate':     0.1,\n",
    "    'subsample':         1,\n",
    "    'reg_lambda':        1,\n",
    "    'scale_pos_weight':  2,\n",
    "    'tree_method':       \"gpu_hist\",\n",
    "    'n_gpus':            1,\n",
    "    'objective':         \"multi:softprob\",\n",
    "    'num_class':         22,\n",
    "    'verbose':           True\n",
    "}"
   ]
  },
  {
   "cell_type": "markdown",
   "metadata": {
    "colab_type": "text",
    "id": "2mOlFfUe9DGC"
   },
   "source": [
    "## Assessment Task 3: Model Training"
   ]
  },
  {
   "cell_type": "markdown",
   "metadata": {
    "colab_type": "text",
    "id": "2mOlFfUe9DGC"
   },
   "source": [
    "In this next task, you will prove that you can build and fit an accelerated XGBoost Model.\n",
    "1.   Initiate training by referring to the [XGBoost API](https://xgboost.readthedocs.io/en/latest/python/python_api.html) documentation.\n",
    "2.   Fit the model on test data to obtain the predictions."
   ]
  },
  {
   "cell_type": "code",
   "execution_count": 14,
   "metadata": {
    "colab": {},
    "colab_type": "code",
    "id": "h5kYwpdIErQU"
   },
   "outputs": [
    {
     "name": "stdout",
     "output_type": "stream",
     "text": [
      "[09:12:05] WARNING: ../src/learner.cc:576: \n",
      "Parameters: { \"n_gpus\", \"num_rounds\", \"scale_pos_weight\", \"verbose\" } might not be used.\n",
      "\n",
      "  This could be a false alarm, with some parameters getting used by language bindings but\n",
      "  then being mistakenly passed down to XGBoost core, or some parameter actually being used\n",
      "  but getting flagged wrongly here. Please open an issue if you find any such cases.\n",
      "\n",
      "\n",
      "[09:12:05] WARNING: ../src/learner.cc:1115: Starting in XGBoost 1.3.0, the default evaluation metric used with the objective 'multi:softprob' was changed from 'merror' to 'mlogloss'. Explicitly set eval_metric if you'd like to restore the old behavior.\n",
      "[0]\ttest-mlogloss:2.06679\ttrain-mlogloss:2.06747\n",
      "[1]\ttest-mlogloss:1.70065\ttrain-mlogloss:1.70039\n",
      "[2]\ttest-mlogloss:1.45060\ttrain-mlogloss:1.44993\n",
      "[3]\ttest-mlogloss:1.26045\ttrain-mlogloss:1.25919\n",
      "[4]\ttest-mlogloss:1.10771\ttrain-mlogloss:1.10599\n",
      "[5]\ttest-mlogloss:0.98100\ttrain-mlogloss:0.97874\n",
      "[6]\ttest-mlogloss:0.87369\ttrain-mlogloss:0.87109\n",
      "[7]\ttest-mlogloss:0.78146\ttrain-mlogloss:0.77860\n",
      "[8]\ttest-mlogloss:0.70118\ttrain-mlogloss:0.69816\n",
      "[9]\ttest-mlogloss:0.63076\ttrain-mlogloss:0.62760\n"
     ]
    }
   ],
   "source": [
    "dtrain = xgb.DMatrix(x_train, label=y_train)\n",
    "dtest = xgb.DMatrix(x_test, label=y_test)\n",
    "evals = [(dtest, 'test',), (dtrain, 'train')]\n",
    "\n",
    "num_rounds = params['num_rounds']\n",
    "\n",
    "model = xgb.train(params,dtrain,num_rounds,evals=evals)"
   ]
  },
  {
   "cell_type": "code",
   "execution_count": 15,
   "metadata": {
    "colab": {},
    "colab_type": "code",
    "id": "nUUoK7fjJpZO"
   },
   "outputs": [
    {
     "name": "stdout",
     "output_type": "stream",
     "text": [
      "[[0.03265708 0.03271218 0.03266538 ... 0.03265694 0.0326893  0.03267832]\n",
      " [0.01884467 0.01887646 0.01884945 ... 0.01884459 0.01886326 0.01885692]\n",
      " [0.02149509 0.02153136 0.02150055 ... 0.021495   0.0215163  0.02150908]\n",
      " ...\n",
      " [0.0214987  0.02153497 0.02150416 ... 0.02149861 0.02151991 0.02151268]\n",
      " [0.0214987  0.02153497 0.02150416 ... 0.02149861 0.02151991 0.02151268]\n",
      " [0.0214987  0.02153497 0.02150416 ... 0.02149861 0.02151991 0.02151268]]\n"
     ]
    },
    {
     "data": {
      "text/plain": [
       "array([17, 11,  9, ...,  9,  9,  9])"
      ]
     },
     "execution_count": 15,
     "metadata": {},
     "output_type": "execute_result"
    }
   ],
   "source": [
    "preds = model.predict(dtest)\n",
    "print(preds)\n",
    "\n",
    "true_labels = y_test\n",
    "true_labels"
   ]
  },
  {
   "cell_type": "code",
   "execution_count": 16,
   "metadata": {
    "colab": {},
    "colab_type": "code",
    "id": "DtPSdZeLKCZ4"
   },
   "outputs": [
    {
     "data": {
      "text/plain": [
       "array([17, 11,  9, ...,  9,  9,  9])"
      ]
     },
     "execution_count": 16,
     "metadata": {},
     "output_type": "execute_result"
    }
   ],
   "source": [
    "# If predictions > 0.5, pred_labels = 1 else pred_labels = 0\n",
    "\n",
    "pred_labels = np.argmax(preds, axis=1)\n",
    "pred_labels"
   ]
  },
  {
   "cell_type": "markdown",
   "metadata": {},
   "source": [
    "Get the accuracy score for your model's predictions. In order to pass this part of the assessment, you need to attain an accuracy greater than 90%."
   ]
  },
  {
   "cell_type": "code",
   "execution_count": 17,
   "metadata": {
    "colab": {},
    "colab_type": "code",
    "id": "qm8dMyMyKMAG"
   },
   "outputs": [
    {
     "name": "stdout",
     "output_type": "stream",
     "text": [
      "XGBoost Accuracy Score : 0.9947602413464592\n"
     ]
    }
   ],
   "source": [
    "# NOTE: We are using our own accuracy score function in order to help grade the assessment,\n",
    "# though it will behave here exactly like its scikit-learn couterpart `accuracy_score`.\n",
    "xgb_acc = xgb_accuracy_score(true_labels, pred_labels)\n",
    "print ('XGBoost Accuracy Score :', xgb_acc)"
   ]
  },
  {
   "cell_type": "markdown",
   "metadata": {},
   "source": [
    "## Assessment Task 4: Implement a Confusion Matrix"
   ]
  },
  {
   "cell_type": "markdown",
   "metadata": {},
   "source": [
    "Show that you can determine the performance of your model by implementing a confusion matrix."
   ]
  },
  {
   "cell_type": "code",
   "execution_count": 18,
   "metadata": {},
   "outputs": [
    {
     "data": {
      "image/png": "[encoded data removed]",
      "text/plain": [
       "<Figure size 720x720 with 2 Axes>"
      ]
     },
     "metadata": {
      "needs_background": "light"
     },
     "output_type": "display_data"
    }
   ],
   "source": [
    "cm = confusion_matrix(true_labels, pred_labels)\n",
    "\n",
    "def plot_confusion_matrix(cm, title='Confusion matrix', cmap=plt.cm.Greens):\n",
    "    plt.figure(figsize=(10,10),)\n",
    "\n",
    "    plt.imshow(cm, interpolation='nearest', cmap=cmap)\n",
    "    plt.title(title)\n",
    "    plt.colorbar()\n",
    "    \n",
    "    plt.tight_layout()\n",
    "\n",
    "    width, height = cm.shape\n",
    "\n",
    "    for x in range(width):\n",
    "        for y in range(height):\n",
    "            plt.annotate(str(cm[x][y]), xy=(y, x), \n",
    "                        horizontalalignment='center',\n",
    "                        verticalalignment='center')\n",
    "    plt.ylabel('True label')\n",
    "    plt.xlabel('Predicted label')\n",
    "\n",
    "plot_confusion_matrix(cm)"
   ]
  },
  {
   "cell_type": "markdown",
   "metadata": {
    "colab_type": "text",
    "id": "ndrKZP0EmEBd"
   },
   "source": [
    "# Autoencoder Model"
   ]
  },
  {
   "cell_type": "markdown",
   "metadata": {
    "colab_type": "text",
    "id": "MxndyyB5KdhM"
   },
   "source": [
    "As the second major part of this assessment, you get to train your own autoencoder neural network to understand inherant clusters in your data. Build an autoencoder treating this as a brinary classification problem. Feel free to open the file viewer on the left of the JupyterLab environment to view the notebooks from previous sections if you need a reference to guide your work."
   ]
  },
  {
   "cell_type": "markdown",
   "metadata": {
    "colab_type": "text",
    "id": "MxndyyB5KdhM"
   },
   "source": [
    "![alt text](https://drive.google.com/uc?id=1gexBTwBnK_LtTmxrZp_opHD1xaAd2oum)"
   ]
  },
  {
   "cell_type": "markdown",
   "metadata": {
    "colab_type": "text",
    "id": "CNwbM0GESLFy"
   },
   "source": [
    "## Assessment Task 5: Set the Hyperparameters "
   ]
  },
  {
   "cell_type": "code",
   "execution_count": 20,
   "metadata": {
    "colab": {},
    "colab_type": "code",
    "id": "EPuAaf6zmH40"
   },
   "outputs": [],
   "source": [
    "input_dim = x_train.shape[1]\n",
    "\n",
    "# Model hyperparameters\n",
    "batch_size = 512\n",
    "\n",
    "# Latent dimension: higher values add network capacity \n",
    "# while lower values increase efficiency of the encoding\n",
    "latent_dim = 4\n",
    "\n",
    "# Number of epochs: should be high enough for the network to learn from the data, \n",
    "# but not so high as to overfit the training data or diverge\n",
    "max_epochs = 20\n",
    "\n",
    "learning_rate = 1e-5"
   ]
  },
  {
   "cell_type": "markdown",
   "metadata": {
    "colab_type": "text",
    "id": "gI4-Yzz8UD1r"
   },
   "source": [
    "## Assessment Task 6: Build the Encoder Segment"
   ]
  },
  {
   "cell_type": "markdown",
   "metadata": {
    "colab_type": "text",
    "id": "gI4-Yzz8UD1r"
   },
   "source": [
    "1.   Fix the dimensions of the input (number of features in the dataset) in the input layer.\n",
    "2.   Define the hidden layers of the encoder. We recommended using at least 3-4 layers.\n",
    "3.   Consider adding dropout layers to the encoder to help avoid overfitting.\n",
    "4.   Experiment with different activation functions (relu, tanh, sigmoid etc.).\n",
    "\n",
    "Feel free to open the file viewer on the left of the JupyterLab environment to view the notebooks from previous sections if you need a reference to guide your work."
   ]
  },
  {
   "cell_type": "code",
   "execution_count": 21,
   "metadata": {
    "colab": {},
    "colab_type": "code",
    "id": "wmHSuZzSnAIh"
   },
   "outputs": [],
   "source": [
    "# The encoder will consist of a number of dense layers that decrease in size \n",
    "# as we taper down towards the bottleneck of the network: the latent space.\n",
    "\n",
    "input_data = Input(shape=(input_dim,), name='encoder_input')\n",
    "\n",
    "# Hidden layers\n",
    "encoder = Dense(units= 96,activation='tanh', name='encoder_1')(input_data)\n",
    "                \n",
    "# Make your Encoder Deeper\n",
    "encoder = Dropout(.1)(encoder)\n",
    "encoder = Dense(units= 64,activation='tanh', name='encoder_2')(encoder)\n",
    "encoder = Dropout(.1)(encoder)\n",
    "encoder = Dense(units= 48,activation='tanh', name='encoder_3')(encoder)\n",
    "encoder = Dropout(.1)(encoder)\n",
    "encoder = Dense(units= 16,activation='tanh', name='encoder_4')(encoder)\n",
    "encoder = Dropout(.1)(encoder)   \n",
    "\n",
    "# Bottleneck layer\n",
    "latent_encoding = Dense(latent_dim, activation='linear', name='latent_encoding')(encoder)"
   ]
  },
  {
   "cell_type": "code",
   "execution_count": 22,
   "metadata": {
    "colab": {},
    "colab_type": "code",
    "id": "539Kkh1KnC1r"
   },
   "outputs": [
    {
     "name": "stdout",
     "output_type": "stream",
     "text": [
      "Model: \"model\"\n",
      "_________________________________________________________________\n",
      " Layer (type)                Output Shape              Param #   \n",
      "=================================================================\n",
      " encoder_input (InputLayer)  [(None, 118)]             0         \n",
      "                                                                 \n",
      " encoder_1 (Dense)           (None, 96)                11424     \n",
      "                                                                 \n",
      " dropout (Dropout)           (None, 96)                0         \n",
      "                                                                 \n",
      " encoder_2 (Dense)           (None, 64)                6208      \n",
      "                                                                 \n",
      " dropout_1 (Dropout)         (None, 64)                0         \n",
      "                                                                 \n",
      " encoder_3 (Dense)           (None, 48)                3120      \n",
      "                                                                 \n",
      " dropout_2 (Dropout)         (None, 48)                0         \n",
      "                                                                 \n",
      " encoder_4 (Dense)           (None, 16)                784       \n",
      "                                                                 \n",
      " dropout_3 (Dropout)         (None, 16)                0         \n",
      "                                                                 \n",
      " latent_encoding (Dense)     (None, 4)                 68        \n",
      "                                                                 \n",
      "=================================================================\n",
      "Total params: 21,604\n",
      "Trainable params: 21,604\n",
      "Non-trainable params: 0\n",
      "_________________________________________________________________\n"
     ]
    }
   ],
   "source": [
    "# We instantiate the encoder model, look at a summary of it's layers, and visualize it.\n",
    "\n",
    "encoder_model = Model(input_data, latent_encoding)\n",
    "\n",
    "encoder_model.summary()"
   ]
  },
  {
   "cell_type": "markdown",
   "metadata": {
    "colab_type": "text",
    "id": "XCTvID5mhH1g"
   },
   "source": [
    "## Assessment Task 7: Build Decoder Segment"
   ]
  },
  {
   "cell_type": "markdown",
   "metadata": {
    "colab_type": "text",
    "id": "XCTvID5mhH1g"
   },
   "source": [
    "1.    Fix the dimensions of the input to the decoder. \n",
    "2.    Grow the network from the latent layer to the output layer of size equal to the input layer.\n",
    "3.    Experiment with different activation functions (tanh, relu, sigmoid etc.)."
   ]
  },
  {
   "cell_type": "code",
   "execution_count": 23,
   "metadata": {
    "colab": {},
    "colab_type": "code",
    "id": "OpI0TeannOpC"
   },
   "outputs": [],
   "source": [
    "# The decoder network is a mirror image of the encoder network.\n",
    "decoder = Dense(units=16, activation='tanh', name='decoder_1')(latent_encoding)\n",
    "decoder = Dropout(.1)(decoder)\n",
    "decoder = Dense(units=48, activation='tanh', name='decoder_2')(decoder)\n",
    "decoder = Dropout(.1)(decoder)\n",
    "decoder = Dense(units=64, activation='tanh', name='decoder_3')(decoder)\n",
    "decoder = Dropout(.1)(decoder)\n",
    "decoder = Dense(units=96, activation='tanh', name='decoder_4')(decoder)\n",
    "decoder = Dropout(.1)(decoder)\n",
    "# The output is the same dimension as the input data we are reconstructing.\n",
    "reconstructed_data = Dense(units = input_dim, activation='linear', name='reconstructed_data')(decoder)"
   ]
  },
  {
   "cell_type": "code",
   "execution_count": 24,
   "metadata": {
    "colab": {},
    "colab_type": "code",
    "id": "VKzj0ibOnRsw"
   },
   "outputs": [
    {
     "name": "stdout",
     "output_type": "stream",
     "text": [
      "Model: \"model_1\"\n",
      "_________________________________________________________________\n",
      " Layer (type)                Output Shape              Param #   \n",
      "=================================================================\n",
      " encoder_input (InputLayer)  [(None, 118)]             0         \n",
      "                                                                 \n",
      " encoder_1 (Dense)           (None, 96)                11424     \n",
      "                                                                 \n",
      " dropout (Dropout)           (None, 96)                0         \n",
      "                                                                 \n",
      " encoder_2 (Dense)           (None, 64)                6208      \n",
      "                                                                 \n",
      " dropout_1 (Dropout)         (None, 64)                0         \n",
      "                                                                 \n",
      " encoder_3 (Dense)           (None, 48)                3120      \n",
      "                                                                 \n",
      " dropout_2 (Dropout)         (None, 48)                0         \n",
      "                                                                 \n",
      " encoder_4 (Dense)           (None, 16)                784       \n",
      "                                                                 \n",
      " dropout_3 (Dropout)         (None, 16)                0         \n",
      "                                                                 \n",
      " latent_encoding (Dense)     (None, 4)                 68        \n",
      "                                                                 \n",
      " decoder_1 (Dense)           (None, 16)                80        \n",
      "                                                                 \n",
      " dropout_4 (Dropout)         (None, 16)                0         \n",
      "                                                                 \n",
      " decoder_2 (Dense)           (None, 48)                816       \n",
      "                                                                 \n",
      " dropout_5 (Dropout)         (None, 48)                0         \n",
      "                                                                 \n",
      " decoder_3 (Dense)           (None, 64)                3136      \n",
      "                                                                 \n",
      " dropout_6 (Dropout)         (None, 64)                0         \n",
      "                                                                 \n",
      " decoder_4 (Dense)           (None, 96)                6240      \n",
      "                                                                 \n",
      " dropout_7 (Dropout)         (None, 96)                0         \n",
      "                                                                 \n",
      " reconstructed_data (Dense)  (None, 118)               11446     \n",
      "                                                                 \n",
      "=================================================================\n",
      "Total params: 43,322\n",
      "Trainable params: 43,322\n",
      "Non-trainable params: 0\n",
      "_________________________________________________________________\n"
     ]
    }
   ],
   "source": [
    "# We instantiate the encoder model, look at a summary of its layers, and visualize it.\n",
    "autoencoder_model = Model(input_data, reconstructed_data)\n",
    "\n",
    "autoencoder_model.summary()"
   ]
  },
  {
   "cell_type": "markdown",
   "metadata": {
    "colab_type": "text",
    "id": "PZFm_GT16QfY"
   },
   "source": [
    "## Assessment Task 8: Initiate Training of the Model"
   ]
  },
  {
   "cell_type": "markdown",
   "metadata": {
    "colab_type": "text",
    "id": "PZFm_GT16QfY"
   },
   "source": [
    "1.   Fix the learning rate *Hint: Think in the order of 10e-4*.\n",
    "2.   Choose an appropriate error metric for the loss function (mse, rmse, mae etc.).\n",
    "3.   Think about whether you want to shuffle your dataset during training.\n",
    "4.   Initiate training of the autoencoder on the given dataset."
   ]
  },
  {
   "cell_type": "code",
   "execution_count": 25,
   "metadata": {
    "colab": {},
    "colab_type": "code",
    "id": "kYxZiu8JnT5O"
   },
   "outputs": [],
   "source": [
    "opt = optimizers.Adam(learning_rate=1e-5)\n",
    "\n",
    "autoencoder_model.compile(optimizer=opt, loss=\"mse\")"
   ]
  },
  {
   "cell_type": "code",
   "execution_count": 26,
   "metadata": {
    "colab": {},
    "colab_type": "code",
    "id": "1p83UCS4nWwy"
   },
   "outputs": [
    {
     "name": "stdout",
     "output_type": "stream",
     "text": [
      "Epoch 1/20\n",
      "37/37 [==============================] - 2s 7ms/step - loss: 0.0776 - val_loss: 0.0680\n",
      "Epoch 2/20\n",
      "37/37 [==============================] - 0s 4ms/step - loss: 0.0745 - val_loss: 0.0658\n",
      "Epoch 3/20\n",
      "37/37 [==============================] - 0s 4ms/step - loss: 0.0722 - val_loss: 0.0643\n",
      "Epoch 4/20\n",
      "37/37 [==============================] - 0s 4ms/step - loss: 0.0704 - val_loss: 0.0630\n",
      "Epoch 5/20\n",
      "37/37 [==============================] - 0s 4ms/step - loss: 0.0690 - val_loss: 0.0618\n",
      "Epoch 6/20\n",
      "37/37 [==============================] - 0s 4ms/step - loss: 0.0677 - val_loss: 0.0607\n",
      "Epoch 7/20\n",
      "37/37 [==============================] - 0s 4ms/step - loss: 0.0665 - val_loss: 0.0596\n",
      "Epoch 8/20\n",
      "37/37 [==============================] - 0s 4ms/step - loss: 0.0653 - val_loss: 0.0585\n",
      "Epoch 9/20\n",
      "37/37 [==============================] - 0s 4ms/step - loss: 0.0641 - val_loss: 0.0574\n",
      "Epoch 10/20\n",
      "37/37 [==============================] - 0s 4ms/step - loss: 0.0630 - val_loss: 0.0561\n",
      "Epoch 11/20\n",
      "37/37 [==============================] - 0s 4ms/step - loss: 0.0617 - val_loss: 0.0548\n",
      "Epoch 12/20\n",
      "37/37 [==============================] - 0s 4ms/step - loss: 0.0606 - val_loss: 0.0533\n",
      "Epoch 13/20\n",
      "37/37 [==============================] - 0s 4ms/step - loss: 0.0593 - val_loss: 0.0518\n",
      "Epoch 14/20\n",
      "37/37 [==============================] - 0s 4ms/step - loss: 0.0580 - val_loss: 0.0502\n",
      "Epoch 15/20\n",
      "37/37 [==============================] - 0s 4ms/step - loss: 0.0566 - val_loss: 0.0486\n",
      "Epoch 16/20\n",
      "37/37 [==============================] - 0s 4ms/step - loss: 0.0553 - val_loss: 0.0470\n",
      "Epoch 17/20\n",
      "37/37 [==============================] - 0s 4ms/step - loss: 0.0540 - val_loss: 0.0453\n",
      "Epoch 18/20\n",
      "37/37 [==============================] - 0s 4ms/step - loss: 0.0526 - val_loss: 0.0437\n",
      "Epoch 19/20\n",
      "37/37 [==============================] - 0s 4ms/step - loss: 0.0514 - val_loss: 0.0421\n",
      "Epoch 20/20\n",
      "37/37 [==============================] - 0s 4ms/step - loss: 0.0501 - val_loss: 0.0405\n"
     ]
    }
   ],
   "source": [
    "train_history = autoencoder_model.fit(x_train, x_train,\n",
    "        shuffle=True,\n",
    "        epochs=max_epochs,\n",
    "        batch_size=batch_size,\n",
    "        validation_data=(x_test, x_test))"
   ]
  },
  {
   "cell_type": "code",
   "execution_count": 27,
   "metadata": {
    "colab": {},
    "colab_type": "code",
    "id": "f7T5mPzInYui"
   },
   "outputs": [
    {
     "data": {
      "text/plain": [
       "<matplotlib.legend.Legend at 0x7f7c846c47f0>"
      ]
     },
     "execution_count": 27,
     "metadata": {},
     "output_type": "execute_result"
    },
    {
     "data": {
      "image/png": "[encoded data removed]",
      "text/plain": [
       "<Figure size 432x288 with 1 Axes>"
      ]
     },
     "metadata": {
      "needs_background": "light"
     },
     "output_type": "display_data"
    }
   ],
   "source": [
    "plt.plot(train_history.history['loss'])\n",
    "plt.plot(train_history.history['val_loss'])\n",
    "plt.legend(['loss on train data', 'loss on validation data'])"
   ]
  },
  {
   "cell_type": "markdown",
   "metadata": {
    "colab_type": "text",
    "id": "l3Og5iic-zZe"
   },
   "source": [
    "## Assessment Task 9: Computing Reconstruction Errors"
   ]
  },
  {
   "cell_type": "markdown",
   "metadata": {
    "colab_type": "text",
    "id": "l3Og5iic-zZe"
   },
   "source": [
    "1.    Fit the trained model on the test dataset. \n",
    "2.    Compute the reconstruction scores using MSE as the error metric."
   ]
  },
  {
   "cell_type": "code",
   "execution_count": 28,
   "metadata": {
    "colab": {},
    "colab_type": "code",
    "id": "o4PNXbdrnc_J"
   },
   "outputs": [
    {
     "name": "stdout",
     "output_type": "stream",
     "text": [
      "197/197 [==============================] - 0s 1ms/step\n"
     ]
    }
   ],
   "source": [
    " # Reconstruct the data using our trained autoencoder model\n",
    "x_test_recon = autoencoder_model.predict(x_test)\n",
    "\n",
    "# The reconstruction score is the mean of the reconstruction errors (relatively high scores are anomalous)\n",
    "reconstruction_scores = np.mean((x_test - x_test_recon)**2, axis=1)"
   ]
  },
  {
   "cell_type": "code",
   "execution_count": 29,
   "metadata": {
    "colab": {},
    "colab_type": "code",
    "id": "5qr6kiiPn0Xp"
   },
   "outputs": [
    {
     "data": {
      "text/html": [
       "<div>\n",
       "<style scoped>\n",
       "    .dataframe tbody tr th:only-of-type {\n",
       "        vertical-align: middle;\n",
       "    }\n",
       "\n",
       "    .dataframe tbody tr th {\n",
       "        vertical-align: top;\n",
       "    }\n",
       "\n",
       "    .dataframe thead tr th {\n",
       "        text-align: left;\n",
       "    }\n",
       "\n",
       "    .dataframe thead tr:last-of-type th {\n",
       "        text-align: right;\n",
       "    }\n",
       "</style>\n",
       "<table border=\"1\" class=\"dataframe\">\n",
       "  <thead>\n",
       "    <tr>\n",
       "      <th></th>\n",
       "      <th colspan=\"8\" halign=\"left\">recon_score</th>\n",
       "    </tr>\n",
       "    <tr>\n",
       "      <th></th>\n",
       "      <th>count</th>\n",
       "      <th>mean</th>\n",
       "      <th>std</th>\n",
       "      <th>min</th>\n",
       "      <th>25%</th>\n",
       "      <th>50%</th>\n",
       "      <th>75%</th>\n",
       "      <th>max</th>\n",
       "    </tr>\n",
       "    <tr>\n",
       "      <th>binary_labels</th>\n",
       "      <th></th>\n",
       "      <th></th>\n",
       "      <th></th>\n",
       "      <th></th>\n",
       "      <th></th>\n",
       "      <th></th>\n",
       "      <th></th>\n",
       "      <th></th>\n",
       "    </tr>\n",
       "  </thead>\n",
       "  <tbody>\n",
       "    <tr>\n",
       "      <th>0</th>\n",
       "      <td>3328.0</td>\n",
       "      <td>0.032083</td>\n",
       "      <td>0.009066</td>\n",
       "      <td>0.021939</td>\n",
       "      <td>0.025891</td>\n",
       "      <td>0.028638</td>\n",
       "      <td>0.036437</td>\n",
       "      <td>0.093236</td>\n",
       "    </tr>\n",
       "    <tr>\n",
       "      <th>1</th>\n",
       "      <td>2970.0</td>\n",
       "      <td>0.049922</td>\n",
       "      <td>0.011563</td>\n",
       "      <td>0.022452</td>\n",
       "      <td>0.042416</td>\n",
       "      <td>0.046536</td>\n",
       "      <td>0.050793</td>\n",
       "      <td>0.093339</td>\n",
       "    </tr>\n",
       "  </tbody>\n",
       "</table>\n",
       "</div>"
      ],
      "text/plain": [
       "              recon_score                                                    \\\n",
       "                    count      mean       std       min       25%       50%   \n",
       "binary_labels                                                                 \n",
       "0                  3328.0  0.032083  0.009066  0.021939  0.025891  0.028638   \n",
       "1                  2970.0  0.049922  0.011563  0.022452  0.042416  0.046536   \n",
       "\n",
       "                                   \n",
       "                    75%       max  \n",
       "binary_labels                      \n",
       "0              0.036437  0.093236  \n",
       "1              0.050793  0.093339  "
      ]
     },
     "execution_count": 29,
     "metadata": {},
     "output_type": "execute_result"
    }
   ],
   "source": [
    "# Store the reconstruction data in a Pandas dataframe\n",
    "anomaly_data = pd.DataFrame({'recon_score':reconstruction_scores})\n",
    "\n",
    "def convert_label_to_binary(labels):\n",
    "    my_labels = labels.copy()\n",
    "    my_labels[my_labels != 11] = 1 \n",
    "    my_labels[my_labels == 11] = 0\n",
    "    return my_labels\n",
    "  \n",
    "# Convert our labels to binary\n",
    "binary_labels = convert_label_to_binary(y_test)\n",
    "\n",
    "# Add the binary labels to our anomaly dataframe\n",
    "anomaly_data['binary_labels'] = binary_labels\n",
    "\n",
    "# Let's check if the reconstruction statistics are different for labeled anomalies\n",
    "anomaly_data.groupby(by='binary_labels').describe()"
   ]
  },
  {
   "cell_type": "markdown",
   "metadata": {
    "colab_type": "text",
    "id": "-Yxh-RGrL4ER"
   },
   "source": [
    "## Assessment Task 10: Anomaly Detection"
   ]
  },
  {
   "cell_type": "markdown",
   "metadata": {
    "colab_type": "text",
    "id": "-Yxh-RGrL4ER"
   },
   "source": [
    "1.   Plot the area under the curve\n",
    "2.   Set the optimal threshold that separates normal packets from anomalous packets. \n",
    "3.   Threshold should be calculated as the difference between the true positive rate and false positive rate."
   ]
  },
  {
   "cell_type": "code",
   "execution_count": 30,
   "metadata": {
    "colab": {},
    "colab_type": "code",
    "id": "syeIxcWoolif"
   },
   "outputs": [
    {
     "data": {
      "image/png": "[encoded data removed]",
      "text/plain": [
       "<Figure size 720x720 with 1 Axes>"
      ]
     },
     "metadata": {
      "needs_background": "light"
     },
     "output_type": "display_data"
    }
   ],
   "source": [
    "fpr, tpr, thresholds = roc_curve(binary_labels, reconstruction_scores)\n",
    "roc_auc = auc(fpr, tpr)\n",
    "\n",
    "plt.figure(figsize=(10,10))\n",
    "plt.plot(fpr, tpr, lw=1, label='ROC curve (area = %0.2f)' % roc_auc)\n",
    "plt.plot([0, 1], [0, 1], color='lime', linestyle='--')\n",
    "plt.xlim([0.0, 1.0])\n",
    "plt.ylim([0.0, 1.05])\n",
    "plt.xlabel('False Positive Rate')\n",
    "plt.ylabel('True Positive Rate')\n",
    "plt.title('Receiver operating characteristic')\n",
    "plt.legend(loc=\"lower right\")\n",
    "plt.show()"
   ]
  },
  {
   "cell_type": "code",
   "execution_count": 32,
   "metadata": {
    "colab": {},
    "colab_type": "code",
    "id": "j-KtLSlLo64E"
   },
   "outputs": [
    {
     "name": "stdout",
     "output_type": "stream",
     "text": [
      "0.04182768\n"
     ]
    }
   ],
   "source": [
    "# We can pick the threshold based on the differeence between  the true positive rate (tpr) \n",
    "# and the false positive rate (fpr)\n",
    "optimal_threshold_idx = np.argmax(tpr - fpr)\n",
    "optimal_threshold = thresholds[optimal_threshold_idx]\n",
    "print(optimal_threshold)"
   ]
  },
  {
   "cell_type": "code",
   "execution_count": 35,
   "metadata": {
    "colab": {},
    "colab_type": "code",
    "id": "hqSbb5k1pa7c"
   },
   "outputs": [
    {
     "name": "stdout",
     "output_type": "stream",
     "text": [
      "0.04182768\n",
      "Autoencoder Accuracy Score : 0.9045728802794538\n"
     ]
    }
   ],
   "source": [
    "# Use the optimal threshold value you just printed in the previous cell.\n",
    "thresh = optimal_threshold\n",
    "\n",
    "print(thresh)\n",
    "\n",
    "pred_labels = (reconstruction_scores > thresh).astype(int)\n",
    "\n",
    "results = confusion_matrix(binary_labels, pred_labels)\n",
    "# We are using our own accuracy score function in order to grade the assessment\n",
    "ae_acc = autoencoder_accuracy_score(binary_labels, pred_labels)\n",
    "print ('Autoencoder Accuracy Score :', autoencoder_accuracy_score(binary_labels, pred_labels))"
   ]
  },
  {
   "cell_type": "markdown",
   "metadata": {},
   "source": [
    "In order to pass the assessment, you need to an accuracy of at least 90%."
   ]
  },
  {
   "cell_type": "markdown",
   "metadata": {},
   "source": [
    "### Confusion Matrix"
   ]
  },
  {
   "cell_type": "markdown",
   "metadata": {},
   "source": [
    "This time, we'll create the confusion matrix for you."
   ]
  },
  {
   "cell_type": "code",
   "execution_count": 36,
   "metadata": {
    "colab": {},
    "colab_type": "code",
    "id": "hqSbb5k1pa7c"
   },
   "outputs": [
    {
     "name": "stdout",
     "output_type": "stream",
     "text": [
      "Confusion Matrix: \n"
     ]
    },
    {
     "data": {
      "image/png": "[encoded data removed]",
      "text/plain": [
       "<Figure size 432x288 with 2 Axes>"
      ]
     },
     "metadata": {
      "needs_background": "light"
     },
     "output_type": "display_data"
    }
   ],
   "source": [
    "print ('Confusion Matrix: ')\n",
    "\n",
    "def plot_confusion_matrix(cm, target_names, title='Confusion matrix', cmap=plt.cm.Blues):\n",
    "    plt.imshow(cm, interpolation='nearest', cmap=cmap)\n",
    "    plt.title(title)\n",
    "    plt.colorbar()\n",
    "    tick_marks = np.arange(len(target_names))\n",
    "    plt.xticks(tick_marks, target_names, rotation=45)\n",
    "    plt.yticks(tick_marks, target_names)\n",
    "    plt.tight_layout()\n",
    "\n",
    "    width, height = cm.shape\n",
    "\n",
    "    for x in range(width):\n",
    "        for y in range(height):\n",
    "            plt.annotate(str(cm[x][y]), xy=(y, x), \n",
    "                        horizontalalignment='center',\n",
    "                        verticalalignment='center')\n",
    "    plt.ylabel('True label')\n",
    "    plt.xlabel('Predicted label')\n",
    "\n",
    "\n",
    "plot_confusion_matrix(results, ['Normal','Anomaly'])"
   ]
  },
  {
   "cell_type": "markdown",
   "metadata": {
    "colab_type": "text",
    "id": "d8LUAaONQylG"
   },
   "source": [
    "## Assessment Task 11: Check Your Assessment Score"
   ]
  },
  {
   "cell_type": "markdown",
   "metadata": {},
   "source": [
    "Before proceeding, confirm your XGBoost model accuracy is greater than 95% and that your autoencoder accuracy is greater than 90%. If it isn't please continue work on the notebook until you've met these benchmarks."
   ]
  },
  {
   "cell_type": "code",
   "execution_count": 37,
   "metadata": {
    "colab": {},
    "colab_type": "code",
    "id": "IR3BhxIQWyz9"
   },
   "outputs": [
    {
     "name": "stdout",
     "output_type": "stream",
     "text": [
      "Accuracy of the XGBoost Model:  0.9947602413464592\n",
      "Accuracy of the Autoencoder Model:  0.9045728802794538\n"
     ]
    }
   ],
   "source": [
    "print (\"Accuracy of the XGBoost Model: \", xgb_acc)\n",
    "print (\"Accuracy of the Autoencoder Model: \", ae_acc)"
   ]
  },
  {
   "cell_type": "markdown",
   "metadata": {},
   "source": [
    "Run the following cell to grade your assessment."
   ]
  },
  {
   "cell_type": "code",
   "execution_count": 38,
   "metadata": {},
   "outputs": [
    {
     "name": "stdout",
     "output_type": "stream",
     "text": [
      "Testing your XGBoost solution\n",
      "Required accuracy greater than 95%....\n",
      "Your XGBoost model is accurate enough!\n",
      "\n",
      "Testing your autoencoder solution\n",
      "Required accuracy greater than 90%....\n",
      "Your autoencoder model is accurate enough!\n",
      "\n",
      "You passed the assessment. Congratulations!!!!!\n",
      "\n",
      "See instructions below for how to get credit for your work.\n"
     ]
    }
   ],
   "source": [
    "from assessment import run_assessment\n",
    "run_assessment()"
   ]
  },
  {
   "cell_type": "markdown",
   "metadata": {},
   "source": [
    "If the cell above tells you that you passed the assessment, read below for instructions on how to get credit for your work."
   ]
  },
  {
   "cell_type": "markdown",
   "metadata": {},
   "source": [
    "### Get Credit for Your Work"
   ]
  },
  {
   "cell_type": "markdown",
   "metadata": {},
   "source": [
    "To get credit for your assessment and generate a certificate of competency for the course, return to the browser tab where you opened this JupyterLab environment and click the \"ASSESS TASK\" button, as shown below:"
   ]
  },
  {
   "cell_type": "markdown",
   "metadata": {},
   "source": [
    "![get_credit](images/get_credit.png)"
   ]
  },
  {
   "cell_type": "markdown",
   "metadata": {},
   "source": [
    "<a href=\"https://www.nvidia.com/en-us/deep-learning-ai/education/\"> <img src=\"images/DLI Header.png\" alt=\"Header\" style=\"width: 400px;\"/> </a>"
   ]
  }
 ],
 "metadata": {
  "colab": {
   "collapsed_sections": [],
   "name": "Final Assessment.ipynb",
   "provenance": [],
   "version": "0.3.2"
  },
  "kernelspec": {
   "display_name": "Python 3 (ipykernel)",
   "language": "python",
   "name": "python3"
  },
  "language_info": {
   "codemirror_mode": {
    "name": "ipython",
    "version": 3
   },
   "file_extension": ".py",
   "mimetype": "text/x-python",
   "name": "python",
   "nbconvert_exporter": "python",
   "pygments_lexer": "ipython3",
   "version": "3.8.10"
  }
 },
 "nbformat": 4,
 "nbformat_minor": 4
}
